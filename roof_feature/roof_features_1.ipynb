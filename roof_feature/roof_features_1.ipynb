{
  "cells": [
    {
      "cell_type": "code",
      "execution_count": null,
      "metadata": {
        "id": "NBcr9gLae7wU"
      },
      "outputs": [],
      "source": [
        "from osgeo import gdal\n",
        "import pandas as pd\n",
        "from shapely.geometry import Polygon, MultiPolygon\n",
        "import json\n",
        "from osgeo import ogr, osr\n",
        "import numpy as np\n",
        "import csv\n",
        "import geopandas as gpd"
      ]
    },
    {
      "cell_type": "code",
      "execution_count": null,
      "metadata": {
        "id": "rQYgUHhIfQ2e"
      },
      "outputs": [],
      "source": [
        "path = \"denhaag_grouped_roof.csv\"\n",
        "df = pd.read_csv(path)\n",
        "df.head()\n"
      ]
    },
    {
      "cell_type": "code",
      "execution_count": null,
      "metadata": {},
      "outputs": [],
      "source": [
        "roofSurfaces = {}\n",
        "for i,row in df.iterrows():\n",
        "    if \"MULTIPOLYGON\" in row[\"geometry\"]:\n",
        "        # multipolygons = eval(row[\"geometry\"])\n",
        "        roofSurfaces[row[\"pri_key\"]] = row[\"geometry\"]\n",
        "    else:\n",
        "        print(\"bad format\")"
      ]
    },
    {
      "cell_type": "code",
      "execution_count": null,
      "metadata": {
        "id": "Kq-TokyNjNp9"
      },
      "outputs": [],
      "source": [
        "driver = ogr.GetDriverByName('GeoJSON')\n",
        "ds = driver.CreateDataSource('denhaag_roof.geojson')\n",
        "if ds is None:\n",
        "    print(\"no driver\")\n",
        "\n",
        "srs = osr.SpatialReference()\n",
        "srs.ImportFromEPSG(7415)  # Set the coordinate system (e.g., WGS84)\n",
        "layer = ds.CreateLayer('output.geojson', srs, ogr.wkbMultiPolygon)\n",
        "\n",
        "\n"
      ]
    },
    {
      "cell_type": "code",
      "execution_count": null,
      "metadata": {
        "colab": {
          "base_uri": "https://localhost:8080/"
        },
        "id": "9Jt6mAGorNeU",
        "outputId": "f8b21234-07b0-45d3-80f3-96c34b886403"
      },
      "outputs": [],
      "source": [
        "field_defn1 = ogr.FieldDefn('Id', ogr.OFTString)\n",
        "\n",
        "field_defn1.SetWidth(50)\n",
        "field_defn2 = ogr.FieldDefn('Area', ogr.OFTReal)\n",
        "field_defn3 = ogr.FieldDefn('MaxAngle', ogr.OFTReal)\n",
        "field_defn4 = ogr.FieldDefn('MinAngle', ogr.OFTReal)\n",
        "field_defn5 = ogr.FieldDefn('Num_polygon', ogr.OFTReal)\n",
        "field_defn6 = ogr.FieldDefn('MaxAreaPropotion', ogr.OFTReal)\n",
        "field_defn7 = ogr.FieldDefn('LargestPolygonAngle', ogr.OFTReal)\n",
        "layer.CreateField(field_defn1)\n",
        "layer.CreateField(field_defn2)\n",
        "layer.CreateField(field_defn3)\n",
        "layer.CreateField(field_defn4)\n",
        "layer.CreateField(field_defn5)\n",
        "layer.CreateField(field_defn6)\n",
        "layer.CreateField(field_defn7)"
      ]
    },
    {
      "cell_type": "code",
      "execution_count": null,
      "metadata": {
        "id": "Yuv1PhNCxDEu"
      },
      "outputs": [],
      "source": [
        "def ground_polygonAngles(polygon):\n",
        "    centroid = polygon.Centroid()\n",
        "    ring = polygon.GetGeometryRef(0)\n",
        "    centroid = [centroid.GetX(),centroid.GetY(),centroid.GetZ()]\n",
        "    z_coordinates = [ring.GetPoint(n)[2] for n in range(ring.GetPointCount())]\n",
        "    centroid_z = sum(z_coordinates) / len(z_coordinates)\n",
        "    centroid[2]=centroid_z\n",
        "\n",
        "    points = [ring.GetPoint(n) for n in range(ring.GetPointCount())]\n",
        "    normal_vector = np.cross(np.array(points[0]) - np.array(centroid), np.array(points[1]) - np.array(centroid))\n",
        "    normal_vector /= np.linalg.norm(normal_vector)\n",
        "    ground_normal = np.array([0, 0, -1])  # Assuming \"down\" is the ground\n",
        "    angles = np.arccos(np.dot(ground_normal, normal_vector))\n",
        "    angles= round(angles*180/np.pi,2)\n",
        "    return angles"
      ]
    },
    {
      "cell_type": "code",
      "execution_count": null,
      "metadata": {
        "id": "N12vk7LvoHU6"
      },
      "outputs": [],
      "source": [
        "ground_normal = np.array([0, 0, -1])\n",
        "for id, layers in roofSurfaces.items():\n",
        "    multi_polygon = ogr.CreateGeometryFromWkt(layers)\n",
        "    angles = []\n",
        "    areas = []\n",
        "    if multi_polygon:  \n",
        "        for i in range(0, multi_polygon.GetGeometryCount()):\n",
        "            # polygon = ogr.Geometry(ogr.wkbPolygon)\n",
        "            # for rings in polygons:\n",
        "            #     ring = ogr.Geometry(ogr.wkbLinearRing)\n",
        "            #     for coord in rings:\n",
        "            #         ring.AddPoint(coord[0], coord[1], coord[2])\n",
        "            #     ring.AddPoint(rings[0][0], rings[0][1],rings[0][2])\n",
        "            #     polygon.AddGeometry(ring)\n",
        "            # calculate the angle between polygon and ground\n",
        "            # multi_polygon.AddGeometry(polygon)\n",
        "            polygon = multi_polygon.GetGeometryRef(i)\n",
        "            if polygon.IsValid():\n",
        "                areas.append(polygon.Area())\n",
        "                angle = ground_polygonAngles(polygon)\n",
        "                angles.append(angle)\n",
        "        if angles:\n",
        "            max_angle = max(angles)\n",
        "            min_angle = min(angles)\n",
        "            indices = np.argmax(areas)\n",
        "            largest_area_angle = angles[indices]\n",
        "            feature = ogr.Feature(layer.GetLayerDefn())\n",
        "            feature.SetGeometry(multi_polygon)\n",
        "            polygon_area = multi_polygon.Area()\n",
        "            num_polygon = multi_polygon.GetGeometryCount()\n",
        "            feature.SetField('Area', polygon_area)\n",
        "            feature.SetField('Id', id)\n",
        "            feature.SetField('MaxAngle', max_angle)\n",
        "            feature.SetField('MinAngle', min_angle)\n",
        "            feature.SetField('Num_polygon', num_polygon)\n",
        "            feature.SetField('LargestPolygonAngle', largest_area_angle)\n",
        "            feature.SetField('MaxAreaPropotion', 100*(max(areas)/polygon_area))\n",
        "\n",
        "            layer.CreateFeature(feature)\n",
        "ds = None\n"
      ]
    },
    {
      "cell_type": "code",
      "execution_count": null,
      "metadata": {},
      "outputs": [],
      "source": [
        "gdf = gpd.read_file(\"D:/Delft/Q5/roof/roof_geojeson/rotterdam_roof.geojson\")"
      ]
    },
    {
      "cell_type": "code",
      "execution_count": null,
      "metadata": {},
      "outputs": [],
      "source": [
        "gdf.head()"
      ]
    },
    {
      "cell_type": "code",
      "execution_count": null,
      "metadata": {},
      "outputs": [],
      "source": [
        "gdf[\"geometry\"]"
      ]
    },
    {
      "cell_type": "code",
      "execution_count": null,
      "metadata": {},
      "outputs": [],
      "source": [
        "gdf.to_csv(\"rotterdam_roof.csv\")"
      ]
    }
  ],
  "metadata": {
    "colab": {
      "provenance": []
    },
    "kernelspec": {
      "display_name": "Python 3",
      "name": "python3"
    },
    "language_info": {
      "codemirror_mode": {
        "name": "ipython",
        "version": 3
      },
      "file_extension": ".py",
      "mimetype": "text/x-python",
      "name": "python",
      "nbconvert_exporter": "python",
      "pygments_lexer": "ipython3",
      "version": "3.8.0"
    }
  },
  "nbformat": 4,
  "nbformat_minor": 0
}
